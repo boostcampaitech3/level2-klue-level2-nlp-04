{
 "cells": [
  {
   "cell_type": "code",
   "execution_count": 6,
   "metadata": {},
   "outputs": [],
   "source": [
    "import pandas as pd\n",
    "\n",
    "sota = pd.read_csv(\"./output.csv\") # 준석님이 sota 찍으신 output 입니다. ai stages 에서 다운 가능합니다. tool 폴더 안에 넣어주세요\n",
    "model = pd.read_csv(\"../../prediction/punc-no-puncsent/submission.csv\") # prediction 뒤에 폴더는 따로 지정해주셔야됩니다."
   ]
  },
  {
   "cell_type": "code",
   "execution_count": 7,
   "metadata": {},
   "outputs": [
    {
     "name": "stdout",
     "output_type": "stream",
     "text": [
      "1148\n"
     ]
    }
   ],
   "source": [
    "diff_id = []\n",
    "\n",
    "for idx, (sota_pred, model_pred) in enumerate(zip(sota.pred_label, model.pred_label)):\n",
    "    if sota_pred != model_pred:\n",
    "        diff_id.append(idx)\n",
    "\n",
    "print(len(diff_id))"
   ]
  },
  {
   "cell_type": "code",
   "execution_count": 4,
   "metadata": {},
   "outputs": [
    {
     "name": "stdout",
     "output_type": "stream",
     "text": [
      "INDEX : 4\n",
      "SOTA PRED : no_relation\n",
      "MODEL PRED : org:top_members/employees\n",
      "\n",
      "INDEX : 18\n",
      "SOTA PRED : no_relation\n",
      "MODEL PRED : per:place_of_residence\n",
      "\n",
      "INDEX : 25\n",
      "SOTA PRED : no_relation\n",
      "MODEL PRED : org:place_of_headquarters\n",
      "\n",
      "INDEX : 39\n",
      "SOTA PRED : org:top_members/employees\n",
      "MODEL PRED : no_relation\n",
      "\n",
      "INDEX : 47\n",
      "SOTA PRED : per:employee_of\n",
      "MODEL PRED : per:title\n",
      "\n",
      "INDEX : 52\n",
      "SOTA PRED : no_relation\n",
      "MODEL PRED : org:alternate_names\n",
      "\n",
      "INDEX : 59\n",
      "SOTA PRED : no_relation\n",
      "MODEL PRED : org:top_members/employees\n",
      "\n",
      "INDEX : 61\n",
      "SOTA PRED : no_relation\n",
      "MODEL PRED : per:employee_of\n",
      "\n",
      "INDEX : 65\n",
      "SOTA PRED : no_relation\n",
      "MODEL PRED : org:top_members/employees\n",
      "\n",
      "INDEX : 68\n",
      "SOTA PRED : no_relation\n",
      "MODEL PRED : per:title\n",
      "\n",
      "INDEX : 76\n",
      "SOTA PRED : org:product\n",
      "MODEL PRED : no_relation\n",
      "\n",
      "INDEX : 77\n",
      "SOTA PRED : org:product\n",
      "MODEL PRED : no_relation\n",
      "\n",
      "INDEX : 78\n",
      "SOTA PRED : no_relation\n",
      "MODEL PRED : org:place_of_headquarters\n",
      "\n",
      "INDEX : 80\n",
      "SOTA PRED : org:top_members/employees\n",
      "MODEL PRED : no_relation\n",
      "\n",
      "INDEX : 97\n",
      "SOTA PRED : org:top_members/employees\n",
      "MODEL PRED : no_relation\n",
      "\n",
      "INDEX : 100\n",
      "SOTA PRED : org:members\n",
      "MODEL PRED : no_relation\n",
      "\n",
      "INDEX : 117\n",
      "SOTA PRED : org:alternate_names\n",
      "MODEL PRED : no_relation\n",
      "\n",
      "INDEX : 123\n",
      "SOTA PRED : per:place_of_residence\n",
      "MODEL PRED : no_relation\n",
      "\n",
      "INDEX : 131\n",
      "SOTA PRED : org:place_of_headquarters\n",
      "MODEL PRED : org:member_of\n",
      "\n",
      "INDEX : 132\n",
      "SOTA PRED : org:top_members/employees\n",
      "MODEL PRED : no_relation\n",
      "\n",
      "INDEX : 140\n",
      "SOTA PRED : no_relation\n",
      "MODEL PRED : per:employee_of\n",
      "\n",
      "INDEX : 146\n",
      "SOTA PRED : no_relation\n",
      "MODEL PRED : per:title\n",
      "\n",
      "INDEX : 149\n",
      "SOTA PRED : no_relation\n",
      "MODEL PRED : org:member_of\n",
      "\n",
      "INDEX : 150\n",
      "SOTA PRED : no_relation\n",
      "MODEL PRED : per:siblings\n",
      "\n",
      "INDEX : 163\n",
      "SOTA PRED : per:colleagues\n",
      "MODEL PRED : no_relation\n",
      "\n"
     ]
    }
   ],
   "source": [
    "limit = 25\n",
    "\n",
    "for id in diff_id[:limit]:\n",
    "    print(f\"INDEX : {id}\")\n",
    "    print(f'SOTA PRED : {sota.iloc[id].pred_label}')\n",
    "    print(f'MODEL PRED : {model.iloc[id].pred_label}')\n",
    "    print()"
   ]
  }
 ],
 "metadata": {
  "interpreter": {
   "hash": "cdf5d1a2b21d5315a0b7a0779e9f9212b6d3b593604d472f2d14684b88d9f7c0"
  },
  "kernelspec": {
   "display_name": "Python 3.8.5 ('klue')",
   "language": "python",
   "name": "python3"
  },
  "language_info": {
   "codemirror_mode": {
    "name": "ipython",
    "version": 3
   },
   "file_extension": ".py",
   "mimetype": "text/x-python",
   "name": "python",
   "nbconvert_exporter": "python",
   "pygments_lexer": "ipython3",
   "version": "3.8.5"
  },
  "orig_nbformat": 4
 },
 "nbformat": 4,
 "nbformat_minor": 2
}
